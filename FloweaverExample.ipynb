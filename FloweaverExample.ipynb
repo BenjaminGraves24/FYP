{
 "cells": [
  {
   "cell_type": "code",
   "execution_count": 11,
   "metadata": {},
   "outputs": [
    {
     "data": {
      "application/vnd.jupyter.widget-view+json": {
       "model_id": "0aa6341e9850410db71b0456932b4d1a",
       "version_major": 2,
       "version_minor": 0
      },
      "text/plain": [
       "VBox(children=(SankeyWidget(groups=[{'id': 'production_sources', 'type': 'process', 'title': 'Production Sourc…"
      ]
     },
     "execution_count": 11,
     "metadata": {},
     "output_type": "execute_result"
    }
   ],
   "source": [
    "from floweaver import *\n",
    "import ipywidgets as widgets\n",
    "from IPython.display import display, clear_output\n",
    "\n",
    "size = dict(width=570, height=600)\n",
    "\n",
    "# Neutral case\n",
    "dataset_neutral = Dataset.from_csv('exampleforpresentation.csv',\n",
    "                                   dim_process_filename='exampleforpresentationprocesses.csv')\n",
    "partition_neutral = dataset_neutral.partition('type')\n",
    "\n",
    "\n",
    "sources = ['Green Hydrogen', 'Blue Hydrogen']\n",
    "uses = ['Consumption']\n",
    "excess = ['Excess']\n",
    "\n",
    "nodes = {\n",
    "    'production_sources': ProcessGroup('type == \"source\"', Partition.Simple('process', sources), title='Production Sources'),\n",
    "    'Hydrogen Generation': ProcessGroup(['Hydrogen_Generation'], title='Net Hydrogen Generation\\n\\n\\n'),\n",
    "    'consumption': ProcessGroup('type == \"use\"', partition=Partition.Simple('process', uses), title='Consumption'),\n",
    "    'excess': ProcessGroup('type == \"excess\"', partition=Partition.Simple('process', excess), title='Excess'),\n",
    "}\n",
    "\n",
    "ordering = [\n",
    "    [['production_sources']],\n",
    "    [['Hydrogen Generation']],\n",
    "    [['consumption'], ['excess']],\n",
    "]\n",
    "\n",
    "bundles = [\n",
    "    Bundle('production_sources', 'Hydrogen Generation'),\n",
    "    Bundle('Hydrogen Generation', 'consumption'),\n",
    "    Bundle('Hydrogen Generation', 'excess'),\n",
    "]\n",
    "\n",
    "palette = {\n",
    "    'Green Hydrogen': 'green',\n",
    "    'Blue Hydrogen': 'blue',\n",
    "}\n",
    "\n",
    "# Neutral case Sankey\n",
    "sdd_neutral = SankeyDefinition(nodes, bundles, ordering, flow_partition=partition_neutral)\n",
    "weave(sdd_neutral, dataset_neutral, palette=palette).to_widget(width=800, height=450, margins=dict(left=120, right=120), debugging=True)\n"
   ]
  }
 ],
 "metadata": {
  "kernelspec": {
   "display_name": "Python 3",
   "language": "python",
   "name": "python3"
  },
  "language_info": {
   "codemirror_mode": {
    "name": "ipython",
    "version": 3
   },
   "file_extension": ".py",
   "mimetype": "text/x-python",
   "name": "python",
   "nbconvert_exporter": "python",
   "pygments_lexer": "ipython3",
   "version": "3.11.2"
  },
  "orig_nbformat": 4
 },
 "nbformat": 4,
 "nbformat_minor": 2
}
