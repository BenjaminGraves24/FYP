{
 "cells": [
  {
   "cell_type": "code",
   "execution_count": 1,
   "metadata": {},
   "outputs": [
    {
     "data": {
      "application/vnd.jupyter.widget-view+json": {
       "model_id": "ee26679573c64fd483999efa79135748",
       "version_major": 2,
       "version_minor": 0
      },
      "text/plain": [
       "VBox(children=(SankeyWidget(groups=[{'id': 'production_sources', 'type': 'process', 'title': 'Production Sourc…"
      ]
     },
     "metadata": {},
     "output_type": "display_data"
    }
   ],
   "source": [
    "from floweaver import *\n",
    "import ipywidgets as widgets\n",
    "from IPython.display import display, clear_output\n",
    "\n",
    "size = dict(width=570, height=600)\n",
    "\n",
    "# Example Case\n",
    "dataset_neutral = Dataset.from_csv('exampleforpresentation.csv',\n",
    "                                   dim_process_filename='exampleforpresentationprocesses.csv')\n",
    "partition_neutral = dataset_neutral.partition('type')\n",
    "\n",
    "#Define Groups\n",
    "sources = ['Green Hydrogen', 'Blue Hydrogen']\n",
    "uses = ['Consumption']\n",
    "excess = ['Excess']\n",
    "#Define ProcessGroup nodes\n",
    "nodes = {\n",
    "    'production_sources': ProcessGroup('type == \"source\"', Partition.Simple('process', sources), title='Production Sources'),\n",
    "    'Hydrogen Generation': ProcessGroup(['Hydrogen_Generation'], title='Net Hydrogen Generation\\n\\n\\n'),\n",
    "    'consumption': ProcessGroup('type == \"use\"', partition=Partition.Simple('process', uses), title='Consumption'),\n",
    "    'excess': ProcessGroup('type == \"excess\"', partition=Partition.Simple('process', excess), title='Excess'),\n",
    "}\n",
    "#Define Ordering\n",
    "ordering = [\n",
    "    [['production_sources']],\n",
    "    [['Hydrogen Generation']],\n",
    "    [['consumption'], ['excess']],\n",
    "]\n",
    "#Define Bundles\n",
    "bundles = [\n",
    "    Bundle('production_sources', 'Hydrogen Generation'),\n",
    "    Bundle('Hydrogen Generation', 'consumption'),\n",
    "    Bundle('Hydrogen Generation', 'excess'),\n",
    "]\n",
    "\n",
    "\n",
    "#Define Colour scheme for sources\n",
    "palette = {\n",
    "  'Green Hydrogen': 'limegreen',\n",
    "  'Blue Hydrogen': 'dodgerblue',\n",
    "}\n",
    "\n",
    "# Neutral case Sankey Def + Display\n",
    "sdd_neutral = SankeyDefinition(nodes, bundles, ordering, flow_partition=partition_neutral)\n",
    "weave(sdd_neutral, dataset_neutral, palette=palette).to_widget(width=800, height=450, margins=dict(left=120, right=120), debugging=True)\n"
   ]
  }
 ],
 "metadata": {
  "kernelspec": {
   "display_name": "Python 3.9.12 ('base')",
   "language": "python",
   "name": "python3"
  },
  "language_info": {
   "codemirror_mode": {
    "name": "ipython",
    "version": 3
   },
   "file_extension": ".py",
   "mimetype": "text/x-python",
   "name": "python",
   "nbconvert_exporter": "python",
   "pygments_lexer": "ipython3",
   "version": "3.9.12"
  },
  "orig_nbformat": 4,
  "vscode": {
   "interpreter": {
    "hash": "ad2bdc8ecc057115af97d19610ffacc2b4e99fae6737bb82f5d7fb13d2f2c186"
   }
  }
 },
 "nbformat": 4,
 "nbformat_minor": 2
}
