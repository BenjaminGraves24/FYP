{
 "cells": [
  {
   "cell_type": "code",
   "execution_count": 3,
   "metadata": {},
   "outputs": [
    {
     "data": {
      "application/vnd.jupyter.widget-view+json": {
       "model_id": "f684209f3d8f4af1bcf1e4d292e531b1",
       "version_major": 2,
       "version_minor": 0
      },
      "text/plain": [
       "VBox(children=(SankeyWidget(groups=[{'id': 'sources', 'type': 'process', 'title': 'Sources', 'nodes': ['source…"
      ]
     },
     "execution_count": 3,
     "metadata": {},
     "output_type": "execute_result"
    }
   ],
   "source": [
    "from floweaver import *\n",
    "\n",
    "size = dict(width=570, height=300)\n",
    "# Neutral case\n",
    "dataset_neutral = Dataset.from_csv('neutral-energy-values.csv',\n",
    "                           dim_process_filename='new-energy-values-processes.csv')\n",
    "partition_neutral = dataset_neutral.partition('type')\n",
    "\n",
    "# Conservative case\n",
    "dataset_conservative = Dataset.from_csv('conservative-energy-values.csv',\n",
    "                           dim_process_filename='new-energy-values-processes.csv')\n",
    "partition_conservative = dataset_conservative.partition('type')\n",
    "\n",
    "# Optimistic case\n",
    "dataset_optimistic = Dataset.from_csv('optimistic-energy-values.csv',\n",
    "                           dim_process_filename='new-energy-values-processes.csv')\n",
    "partition_optimistic = dataset_optimistic.partition('type')\n",
    "\n",
    "sources = ['Green Hydrogen', 'Blue Hydrogen']\n",
    "\n",
    "uses = ['Industry', 'Transportation', 'Power', 'Heating']\n",
    "\n",
    "nodes = {\n",
    "    'sources': ProcessGroup('type == \"source\"', Partition.Simple('process', sources), title='Sources'),\n",
    "    'Hydrogen Generation': ProcessGroup(['Hydrogen_Generation'], title='Net Hydrogen Generation'),\n",
    "    'uses': ProcessGroup('type == \"use\"', partition=Partition.Simple('process', uses)),\n",
    "}\n",
    "\n",
    "ordering = [    [['sources']],\n",
    "    [['Hydrogen Generation']],\n",
    "    [['uses']],\n",
    "]\n",
    "\n",
    "bundles = [    Bundle('sources', 'Hydrogen Generation'),    Bundle('Hydrogen Generation', 'uses')]\n",
    "\n",
    "palette = {\n",
    "    'Green Hydrogen': 'green',\n",
    "    'Blue Hydrogen': 'blue',\n",
    "}\n",
    "\n",
    "# Neutral case Sankey\n",
    "sdd_neutral = SankeyDefinition(nodes, bundles, ordering, flow_partition=partition_neutral)\n",
    "weave(sdd_neutral, dataset_neutral, palette=palette).to_widget(width=700, height=450, margins=dict(left=100, right=120), debugging=True)\n",
    "\n",
    "# Conservative case Sankey\n",
    "sdd_conservative = SankeyDefinition(nodes, bundles, ordering, flow_partition=partition_conservative)\n",
    "weave(sdd_conservative, dataset_conservative, palette=palette).to_widget(width=700, height=450, margins=dict(left=100, right=120), debugging=True)\n",
    "\n",
    "# Optimistic case Sankey\n",
    "sdd_optimistic = SankeyDefinition(nodes, bundles, ordering, flow_partition=partition_optimistic)\n",
    "weave(sdd_optimistic, dataset_optimistic, palette=palette).to_widget(width=700, height=450, margins=dict(left=100, right=120), debugging=True)"
   ]
  }
 ],
 "metadata": {
  "kernelspec": {
   "display_name": "Python 3",
   "language": "python",
   "name": "python3"
  },
  "language_info": {
   "codemirror_mode": {
    "name": "ipython",
    "version": 3
   },
   "file_extension": ".py",
   "mimetype": "text/x-python",
   "name": "python",
   "nbconvert_exporter": "python",
   "pygments_lexer": "ipython3",
   "version": "3.11.2"
  },
  "orig_nbformat": 4,
  "vscode": {
   "interpreter": {
    "hash": "5992d54ce36d5dec20be1cb40a49d60307be26b1840732183395c1a9f7fffef8"
   }
  }
 },
 "nbformat": 4,
 "nbformat_minor": 2
}
