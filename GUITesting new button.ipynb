{
 "cells": [
  {
   "cell_type": "code",
   "execution_count": 2,
   "metadata": {},
   "outputs": [
    {
     "data": {
      "application/vnd.jupyter.widget-view+json": {
       "model_id": "9dc848986076479ab734e091921273bb",
       "version_major": 2,
       "version_minor": 0
      },
      "text/plain": [
       "HBox(children=(Button(description='Conservative Case', style=ButtonStyle()), Button(description='Neutral Case'…"
      ]
     },
     "metadata": {},
     "output_type": "display_data"
    },
    {
     "data": {
      "application/vnd.jupyter.widget-view+json": {
       "model_id": "b5db1015930b41039b024282ce0c032d",
       "version_major": 2,
       "version_minor": 0
      },
      "text/plain": [
       "Output()"
      ]
     },
     "metadata": {},
     "output_type": "display_data"
    }
   ],
   "source": [
    "from floweaver import *\n",
    "import ipywidgets as widgets\n",
    "from IPython.display import display, clear_output\n",
    "\n",
    "size = dict(width=570, height=600)\n",
    "\n",
    "# Neutral case\n",
    "dataset_neutral = Dataset.from_csv('neutral-energy-values.csv',\n",
    "                                   dim_process_filename='new-energy-values-processes.csv')\n",
    "partition_neutral = dataset_neutral.partition('type')\n",
    "\n",
    "# Conservative case\n",
    "dataset_conservative = Dataset.from_csv('conservative-energy-values.csv',\n",
    "                                       dim_process_filename='new-energy-values-processes.csv')\n",
    "partition_conservative = dataset_conservative.partition('type')\n",
    "\n",
    "# Optimistic case\n",
    "dataset_optimistic = Dataset.from_csv('optimistic-energy-values.csv',\n",
    "                                      dim_process_filename='new-energy-values-processes.csv')\n",
    "partition_optimistic = dataset_optimistic.partition('type')\n",
    "\n",
    "sources = ['Green Hydrogen', 'Blue Hydrogen']\n",
    "uses = ['Industry', 'Transportation', 'Power', 'Heating']\n",
    "\n",
    "nodes = {\n",
    "    'production_sources': ProcessGroup('type == \"source\"', Partition.Simple('process', sources), title='Production Sources'),\n",
    "    'Hydrogen Generation': ProcessGroup(['Hydrogen_Generation'], title='Net Hydrogen Generation'),\n",
    "    'consumption': ProcessGroup('type == \"use\"', partition=Partition.Simple('process', uses), title='Consumption'),\n",
    "}\n",
    "\n",
    "ordering = [\n",
    "    [['production_sources']],\n",
    "    [['Hydrogen Generation']],\n",
    "    [['consumption']],\n",
    "]\n",
    "\n",
    "bundles = [\n",
    "    Bundle('production_sources', 'Hydrogen Generation'),\n",
    "    Bundle('Hydrogen Generation', 'consumption')\n",
    "]\n",
    "\n",
    "palette = {\n",
    "    'Green Hydrogen': 'green',\n",
    "    'Blue Hydrogen': 'blue',\n",
    "}\n",
    "\n",
    "# Neutral case Sankey\n",
    "sdd_neutral = SankeyDefinition(nodes, bundles, ordering, flow_partition=partition_neutral)\n",
    "weave(sdd_neutral, dataset_neutral, palette=palette).to_widget(width=700, height=450, margins=dict(left=100, right=120), debugging=True)\n",
    "\n",
    "# Conservative case Sankey\n",
    "sdd_conservative = SankeyDefinition(nodes, bundles, ordering, flow_partition=partition_conservative)\n",
    "weave(sdd_conservative, dataset_conservative, palette=palette).to_widget(width=700, height=450, margins=dict(left=100, right=120), debugging=True)\n",
    "\n",
    "# Optimistic case Sankey\n",
    "sdd_optimistic = SankeyDefinition(nodes, bundles, ordering, flow_partition=partition_optimistic)\n",
    "weave(sdd_optimistic, dataset_optimistic, palette=palette).to_widget(width=700, height=450, margins=dict(left=100, right=120), debugging=True)\n",
    "output = widgets.Output()\n",
    "\n",
    "def on_button_click(button):\n",
    "    with output:\n",
    "        clear_output(wait=True)\n",
    "        if button.description == 'Neutral Case':\n",
    "            display(weave(sdd_neutral, dataset_neutral, palette=palette).to_widget(width=700, height=450, margins=dict(left=150, right=150), debugging=True))\n",
    "        elif button.description == 'Conservative Case':\n",
    "            display(weave(sdd_conservative, dataset_conservative, palette=palette).to_widget(width=700, height=450, margins=dict(left=150, right=150), debugging=True))\n",
    "        elif button.description == 'Optimistic Case':\n",
    "            display(weave(sdd_optimistic, dataset_optimistic, palette=palette).to_widget(width=700, height=450, margins=dict(left=150, right=150), debugging=True))\n",
    "\n",
    "button_neutral = widgets.Button(description=\"Neutral Case\")\n",
    "button_conservative = widgets.Button(description=\"Conservative Case\")\n",
    "button_optimistic = widgets.Button(description=\"Optimistic Case\")\n",
    "\n",
    "button_neutral.on_click(on_button_click)\n",
    "button_conservative.on_click(on_button_click)\n",
    "button_optimistic.on_click(on_button_click)\n",
    "\n",
    "display(widgets.HBox([button_conservative, button_neutral,  button_optimistic]))\n",
    "display(output)"
   ]
  }
 ],
 "metadata": {
  "kernelspec": {
   "display_name": "Python 3",
   "language": "python",
   "name": "python3"
  },
  "language_info": {
   "codemirror_mode": {
    "name": "ipython",
    "version": 3
   },
   "file_extension": ".py",
   "mimetype": "text/x-python",
   "name": "python",
   "nbconvert_exporter": "python",
   "pygments_lexer": "ipython3",
   "version": "3.11.2"
  },
  "orig_nbformat": 4
 },
 "nbformat": 4,
 "nbformat_minor": 2
}
